{
  "cells": [
    {
      "cell_type": "markdown",
      "metadata": {
        "id": "y89wJ9U_sjeU"
      },
      "source": [
        "## Word Guessing Game Project\n",
        "\n",
        "### Description:\n",
        "Create a Python program that simulates a word guessing game with a limited number of trials.\n",
        "\n",
        "### Objectives:\n",
        "- Randomly select a word from a list.\n",
        "- Display the word with guessed letters revealed and unguessed letters as dots.\n",
        "- Allow the user to guess one letter at a time.\n",
        "- Limit the number of incorrect guesses the user can make.\n",
        "- Notify the user if their guess is correct or incorrect.\n",
        "- End the game when the word is fully guessed or when the user runs out of trials.\n",
        "- Display a congratulatory message if the word is guessed correctly or a game over message if the trials are exhausted.\n",
        "\n",
        "### Features:\n",
        "- **Random Word Selection:**\n",
        "  - The program will randomly choose a word from a predefined list of words.\n",
        "- **Word Display:**\n",
        "  - The program will show the word with guessed letters revealed and the remaining letters as dots (e.g., \"p.y.h.n\").\n",
        "- **User Input:**\n",
        "  - The user will be prompted to enter a single letter in each attempt.\n",
        "- **Guess Validation:**\n",
        "  - The program will validate the user's input to ensure it is a single alphabetic character.\n",
        "  - If the user guesses a letter that has already been guessed, they will be notified and asked to try another letter.\n",
        "- **Tracking Trials:**\n",
        "  - The program will keep count of how many incorrect guesses the user has made.\n",
        "  - The game will end if the user reaches the maximum number of allowed incorrect guesses.\n",
        "- **Feedback:**\n",
        "  - The user will be informed if their guess is correct or incorrect.\n",
        "- **Game Completion:**\n",
        "  - The game continues until the user successfully guesses all the letters in the word or exhausts the allowed number of incorrect guesses.\n",
        "  - Once the word is fully guessed, the program will congratulate the user.\n",
        "  - If the user runs out of trials, the program will display a game over message with the correct word.\n",
        "\n"
      ]
    },
    {
      "cell_type": "code",
      "source": [
        "import random\n",
        "\n",
        "def words():\n",
        "  word_list = ['apple','banana','guava','dragonfruit','mango']\n",
        "  return random.choice(word_list)\n",
        "\n",
        "def display(word,guess):\n",
        "  display = ''\n",
        "  for letter in word:\n",
        "    if letter in guess:\n",
        "      display += letter\n",
        "    else:\n",
        "      display += '.'\n",
        "  return display\n",
        "\n",
        "def main():\n",
        "  guesses = set()\n",
        "  max_trials = 5\n",
        "  print(\"Welcome to the word guessing game \")\n",
        "  while True:\n",
        "    word = words()\n",
        "    trials = 0\n",
        "    guesses.clear()\n",
        "    while trials < max_trials:\n",
        "      print(display(word, guesses))\n",
        "      user_guess = input(\"Please Enter a letter: \").lower().strip()\n",
        "      if len(user_guess) != 1 or not user_guess.isalpha():\n",
        "        print(\"Invalid input. Please enter a single letter.\")\n",
        "        continue\n",
        "      if user_guess in guesses:\n",
        "        print(\"You have already guessed that letter. Please try again.\")\n",
        "        continue\n",
        "      guesses.add(user_guess)\n",
        "      if user_guess in word:\n",
        "        print(\"Correct guess!\")\n",
        "      else:\n",
        "        print(\"Incorrect guess!\")\n",
        "        trials += 1\n",
        "      if display(word, guesses) == word:\n",
        "        print(\"Congratulations! You guessed the word:\", word)\n",
        "        break\n",
        "    else:\n",
        "      print(\"Game Over! The word was:\", word)\n",
        "    break\n"
      ],
      "metadata": {
        "id": "TfV163T5skCM"
      },
      "execution_count": 1,
      "outputs": []
    },
    {
      "cell_type": "code",
      "source": [
        "main()"
      ],
      "metadata": {
        "id": "YSXb28Rfskl9",
        "outputId": "0157dcfc-a7c0-4321-d489-a01d3693c048",
        "colab": {
          "base_uri": "https://localhost:8080/"
        }
      },
      "execution_count": 2,
      "outputs": [
        {
          "output_type": "stream",
          "name": "stdout",
          "text": [
            "Welcome to the word guessing game \n",
            ".....\n",
            "Please Enter a letter: a\n",
            "Correct guess!\n",
            ".a...\n",
            "Please Enter a letter: n\n",
            "Correct guess!\n",
            ".an..\n",
            "Please Enter a letter: m\n",
            "Correct guess!\n",
            "man..\n",
            "Please Enter a letter: p\n",
            "Incorrect guess!\n",
            "man..\n",
            "Please Enter a letter: g\n",
            "Correct guess!\n",
            "mang.\n",
            "Please Enter a letter: o\n",
            "Correct guess!\n",
            "Congratulations! You guessed the word: mango\n"
          ]
        }
      ]
    }
  ],
  "metadata": {
    "kernelspec": {
      "display_name": "base",
      "language": "python",
      "name": "python3"
    },
    "language_info": {
      "codemirror_mode": {
        "name": "ipython",
        "version": 3
      },
      "file_extension": ".py",
      "mimetype": "text/x-python",
      "name": "python",
      "nbconvert_exporter": "python",
      "pygments_lexer": "ipython3",
      "version": "3.9.12"
    },
    "colab": {
      "provenance": []
    }
  },
  "nbformat": 4,
  "nbformat_minor": 0
}