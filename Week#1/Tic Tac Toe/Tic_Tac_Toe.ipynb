{
  "cells": [
    {
      "cell_type": "markdown",
      "metadata": {
        "id": "hMV-7TpxbEDG"
      },
      "source": [
        "\n",
        "<a href=\"https://www.zero-grad.com/\">\n",
        "         <img alt=\"Zero Grad\" src=\"https://lh3.googleusercontent.com/oEMY-qk_B2HW_Fponz1a3u1fLfo3NpO0VFjQKnVW8fH0v93NAWala5Kgp0nN2ubiyZdEMpwhv3Ynv7bXsB0RZ28YfEd_ZlRum75OHEu0-z7XwHfcD3sin7_SORLzg1gz52MsxD3b1WbxQWX1RdR4HP3jpbJTOuCiddl92UBcQH_x-Llx7_XuZuwb9ekN9vYnKsw6U1yL2df4IVrJEDySttzab9qlHvMO7sSekgS64jPVAmATjqXqlvrwM026dhrad-7nX-hfr2uKlUGPuo9xKzVo4EhbUP1-pKBQNPNHO6P0KcReg3NxbtKmWXRyg9LPX0xO-wwXWt9GhCcPXFV_BoY5eQXabCjR3mlr9SO01VgWplas-XF4337_JOm-bVkiaQjQca_N4Gg0hy26TvIGRnHEMIPSgudYPqhMnatoN4xAC715rP82r1svC0_qadXMZHu6D40YqWnY9ZE-iujr2p1_CetxmG-uY94UATy7o-SnxuPchG4QfZkiUgRMr8xNg86bQMuBxbCS_lOyVMwfqwbt2IunlDcZ8yyN_3SJFzFHuFOOjQolgGQrytI0mP1oTwba7je0RtBtCuTck1UCMMsZvMnJhCtWgMmuLoYTkSCzxMXbz0T3L2AClDouA_3dwM7z1gdm8Gq4v06T1KWFUs1adGNH5fuj-pUHEfW4drzzXgolPH5SehqhaNsqdMttCPUzNPIIEjwfULyQi7nlP-w-qydK82mdhdmjQhrprfoGtsPckJkI1Tur60uZI7nLkES5cE3tQrGualSNArRkkU8KN4tStZ0CkmqZNkAlMbfAJSYBD7tDxhGSg922AdLevSLJMTUyg6KuHoY30r7zH1Z8fE0R8aFZL2LJl54OU_tkXEdlFlSnZTOdB-PVTj-yagpt99SetLnQIX5SS_Vxc0BNPKjUZG0oEHYbIxkbZN1O7Rg78xe-thytngS0byfuaeP2X4NYjg29FIffnn72bAUs9Ii0N2mOpABLg1uQMN4MyAa1Mbd_=w1300-h200-no?authuser=1\" >\n",
        "      </a>"
      ]
    },
    {
      "cell_type": "markdown",
      "metadata": {
        "id": "PhpgbWHJhJOW"
      },
      "source": [
        "# Tic Tac Toe Project Description"
      ]
    },
    {
      "cell_type": "markdown",
      "metadata": {
        "id": "9XJyp9xehPBl"
      },
      "source": [
        " **`(1) Create Empty board (3x3):`**\n",
        "\n",
        "  `1  2  3`\n",
        "\n",
        "  `4 5 6`\n",
        "\n",
        "  `7 8 9`\n",
        "\n",
        " **`(2) Show Board`**\n",
        "\n",
        " **`(3) Set Players Randomly ('X', 'O')`**\n",
        "\n",
        " **`(4) Take Input from Player`**\n",
        "\n",
        " **`(5) Check Full Board >> Draw`**\n",
        "\n",
        " **`(6) Check if Someone wins >> Finish`**"
      ]
    },
    {
      "cell_type": "markdown",
      "metadata": {
        "id": "m2nflmTioFy_"
      },
      "source": [
        "# Template"
      ]
    },
    {
      "cell_type": "markdown",
      "metadata": {
        "id": "GsE-z7Son-xm"
      },
      "source": [
        "## Empty Board"
      ]
    },
    {
      "cell_type": "code",
      "execution_count": 1,
      "metadata": {
        "id": "YueCJNtPnndY"
      },
      "outputs": [],
      "source": [
        "def create_empty_board():\n",
        "  board=[[1,2,3]\n",
        "         ,[4,5,6]\n",
        "         ,[7,8,9]]\n",
        "  for row in board:\n",
        "    for element in row:\n",
        "      print(element, end='\\t')\n",
        "    print('\\n')"
      ]
    },
    {
      "cell_type": "code",
      "execution_count": 2,
      "metadata": {
        "colab": {
          "base_uri": "https://localhost:8080/"
        },
        "id": "RMlzPMyHRIq7",
        "outputId": "02dafd62-1042-45da-de06-35486bdf6086"
      },
      "outputs": [
        {
          "output_type": "stream",
          "name": "stdout",
          "text": [
            "1\t2\t3\t\n",
            "\n",
            "4\t5\t6\t\n",
            "\n",
            "7\t8\t9\t\n",
            "\n"
          ]
        }
      ],
      "source": [
        "create_empty_board()"
      ]
    },
    {
      "cell_type": "markdown",
      "metadata": {
        "id": "qjKBWyq4f3Fr"
      },
      "source": [
        "## Show Board"
      ]
    },
    {
      "cell_type": "code",
      "execution_count": 3,
      "metadata": {
        "id": "Bn6VqZo_Xze5"
      },
      "outputs": [],
      "source": [
        "def show_board(board):\n",
        "  for row in board:\n",
        "    for element in row:\n",
        "      print(element, end='\\t')\n",
        "    print('\\n')\n"
      ]
    },
    {
      "cell_type": "code",
      "execution_count": 4,
      "metadata": {
        "colab": {
          "base_uri": "https://localhost:8080/"
        },
        "id": "Z7lIOpFfX3dU",
        "outputId": "6238a10e-7e46-46c4-a935-f9df9099ea54"
      },
      "outputs": [
        {
          "output_type": "stream",
          "name": "stdout",
          "text": [
            "1\t2\t3\t\n",
            "\n",
            "4\tX\t6\t\n",
            "\n",
            "7\t8\t9\t\n",
            "\n"
          ]
        }
      ],
      "source": [
        "board = [[1,2,3],[4,'X',6],[7,8,9]]\n",
        "show_board(board)"
      ]
    },
    {
      "cell_type": "markdown",
      "metadata": {
        "id": "ZaIwkooboJ5p"
      },
      "source": [
        "## Set Players"
      ]
    },
    {
      "cell_type": "code",
      "execution_count": 5,
      "metadata": {
        "id": "we7UkC6AhFwy"
      },
      "outputs": [],
      "source": [
        "import random\n",
        "def set_players():\n",
        "  players = ['X', 'O']\n",
        "  random.shuffle(players)\n",
        "  return players[0], players[1]"
      ]
    },
    {
      "cell_type": "code",
      "execution_count": 6,
      "metadata": {
        "colab": {
          "base_uri": "https://localhost:8080/"
        },
        "id": "3A_FDAHLWxNF",
        "outputId": "a0066698-823f-4ba8-b3ca-bcb1fe029c1a"
      },
      "outputs": [
        {
          "output_type": "execute_result",
          "data": {
            "text/plain": [
              "('X', 'O')"
            ]
          },
          "metadata": {},
          "execution_count": 6
        }
      ],
      "source": [
        "set_players()"
      ]
    },
    {
      "cell_type": "markdown",
      "metadata": {
        "id": "VNl11PuZgDjc"
      },
      "source": [
        "## Take Input"
      ]
    },
    {
      "cell_type": "code",
      "execution_count": 7,
      "metadata": {
        "id": "pZAd299MY2fw"
      },
      "outputs": [],
      "source": [
        "def take_input(board, player):\n",
        "\n",
        "  player_input = input('Please Enter a number between 1,9, and make sure it is empty ')\n",
        "  if player_input == '1' and board[0][0].isdigit():\n",
        "      board[0][0] = player\n",
        "  elif player_input == '2' and board[0][1].isdigit():\n",
        "      board[0][1] = player\n",
        "  elif player_input == '3' and board[0][2].isdigit():\n",
        "      board[0][2] = player\n",
        "  elif player_input == '4' and board[1][0].isdigit():\n",
        "      board[1][0] = player\n",
        "  elif player_input == '5' and board[1][1].isdigit():\n",
        "      board[1][1] = player\n",
        "  elif player_input == '6' and board[1][2].isdigit():\n",
        "      board[1][2] = player\n",
        "  elif player_input == '7' and board[2][0].isdigit():\n",
        "      board[2][0] = player\n",
        "  elif player_input == '8' and board[2][1].isdigit():\n",
        "      board[2][1] = player\n",
        "  elif player_input == '9' and board[2][2].isdigit():\n",
        "      board[2][2] = player\n",
        "  else:\n",
        "      print('Invalid Input try again')\n",
        "\n",
        "\n",
        "  show_board(board)\n"
      ]
    },
    {
      "cell_type": "code",
      "execution_count": 8,
      "metadata": {
        "colab": {
          "base_uri": "https://localhost:8080/"
        },
        "id": "bH2UI4GEcAVp",
        "outputId": "da72080f-438d-4b97-deb6-ef5b439368cc"
      },
      "outputs": [
        {
          "output_type": "stream",
          "name": "stdout",
          "text": [
            "Please Enter a number between 1,9, and make sure it is empty 5\n",
            "Invalid Input try again\n",
            "1\t2\t3\t\n",
            "\n",
            "4\tX\t6\t\n",
            "\n",
            "7\t8\t9\t\n",
            "\n"
          ]
        }
      ],
      "source": [
        "board = [['1','2','3'],['4','X','6'],['7','8','9']]\n",
        "player ='O'\n",
        "player_input = '8'\n",
        "take_input(board, player)\n"
      ]
    },
    {
      "cell_type": "markdown",
      "metadata": {
        "id": "mgCFF48jgVq7"
      },
      "source": [
        "## Check Full Board"
      ]
    },
    {
      "cell_type": "code",
      "execution_count": 9,
      "metadata": {
        "id": "obxUdjg_ThZi"
      },
      "outputs": [],
      "source": [
        "def check_full_board(board):\n",
        "  for row in board:\n",
        "    for element in row:\n",
        "      if element.isdigit():\n",
        "        return False\n",
        "  return True"
      ]
    },
    {
      "cell_type": "code",
      "execution_count": 10,
      "metadata": {
        "colab": {
          "base_uri": "https://localhost:8080/"
        },
        "id": "TcLZt1PqS_9i",
        "outputId": "9c9a41d3-2653-49ae-a038-655f60fa32d0"
      },
      "outputs": [
        {
          "output_type": "execute_result",
          "data": {
            "text/plain": [
              "True"
            ]
          },
          "metadata": {},
          "execution_count": 10
        }
      ],
      "source": [
        "board = [['o','x','x'],['o','X','o'],['x','o','x']]\n",
        "check_full_board(board)"
      ]
    },
    {
      "cell_type": "code",
      "execution_count": 11,
      "metadata": {
        "colab": {
          "base_uri": "https://localhost:8080/"
        },
        "id": "s475eihMkEqL",
        "outputId": "02510c53-d6a8-4261-827d-45d34310f3fa"
      },
      "outputs": [
        {
          "output_type": "execute_result",
          "data": {
            "text/plain": [
              "False"
            ]
          },
          "metadata": {},
          "execution_count": 11
        }
      ],
      "source": [
        "board = [['o','x','x'],['o','X','o'],['4','o','x']]\n",
        "check_full_board(board)"
      ]
    },
    {
      "cell_type": "markdown",
      "metadata": {
        "id": "OjfyXPCeoQM4"
      },
      "source": [
        "## Check Win\n"
      ]
    },
    {
      "cell_type": "code",
      "execution_count": 12,
      "metadata": {
        "id": "NTxJ1qsJmhoG"
      },
      "outputs": [],
      "source": [
        "def check_win(board):\n",
        "    return board[0][0] == board[0][1] == board[0][2] or \\\n",
        "         board[1][0] == board[1][1] == board[1][2] or \\\n",
        "         board[2][0] == board[2][1] == board[2][2] or \\\n",
        "         board[0][0] == board[1][0] == board[2][0] or \\\n",
        "         board[0][1] == board[1][1] == board[2][1] or \\\n",
        "         board[0][2] == board[1][2] == board[2][2] or \\\n",
        "         board[0][0] == board[1][1] == board[2][2] or \\\n",
        "         board[0][2] == board[1][1] == board[2][0]"
      ]
    },
    {
      "cell_type": "code",
      "execution_count": 13,
      "metadata": {
        "colab": {
          "base_uri": "https://localhost:8080/"
        },
        "id": "E-mETiZEfZqp",
        "outputId": "2f248150-dd24-49f4-d070-24fe6b8d0883"
      },
      "outputs": [
        {
          "output_type": "stream",
          "name": "stdout",
          "text": [
            "x\tx\to\t\n",
            "\n",
            "o\tx\tx\t\n",
            "\n",
            "x\to\tx\t\n",
            "\n"
          ]
        },
        {
          "output_type": "execute_result",
          "data": {
            "text/plain": [
              "True"
            ]
          },
          "metadata": {},
          "execution_count": 13
        }
      ],
      "source": [
        "board = [['x','x','o'],['o','x','x'],['x','o','x']]\n",
        "show_board(board)\n",
        "check_win(board)"
      ]
    },
    {
      "cell_type": "code",
      "execution_count": 14,
      "metadata": {
        "colab": {
          "base_uri": "https://localhost:8080/"
        },
        "id": "CmlQlsjZkIut",
        "outputId": "4911a136-77f1-453e-edd6-4bb8285e1455"
      },
      "outputs": [
        {
          "output_type": "stream",
          "name": "stdout",
          "text": [
            "o\tx\to\t\n",
            "\n",
            "o\to\tx\t\n",
            "\n",
            "x\to\tx\t\n",
            "\n"
          ]
        },
        {
          "output_type": "execute_result",
          "data": {
            "text/plain": [
              "False"
            ]
          },
          "metadata": {},
          "execution_count": 14
        }
      ],
      "source": [
        "board = [['o','x','o'],['o','o','x'],['x','o','x']]\n",
        "show_board(board)\n",
        "check_win(board)"
      ]
    },
    {
      "cell_type": "markdown",
      "metadata": {
        "id": "uI9u-XGV2S7P"
      },
      "source": [
        "## Let's Play"
      ]
    },
    {
      "cell_type": "code",
      "execution_count": 15,
      "metadata": {
        "id": "4nIAPOhSpksM"
      },
      "outputs": [],
      "source": [
        "def play():\n",
        "    player1, player2 = set_players()\n",
        "    print(\"Player 1:\", player1)\n",
        "    print(\"Player 2:\", player2, '\\n')\n",
        "\n",
        "    board = [['1','2','3'], ['4','5','6'], ['7','8','9']]\n",
        "    show_board(board)\n",
        "\n",
        "    for _ in range(9):\n",
        "        for player in [player1, player2]:\n",
        "            print(f\"{player}'s turn\")\n",
        "            take_input(board, player)\n",
        "\n",
        "            if check_win(board):\n",
        "                print(f\"{player} wins!\")\n",
        "                return\n",
        "            if check_full_board(board):\n",
        "                print(\"Game finished. It's a draw!\")\n",
        "                return\n"
      ]
    },
    {
      "cell_type": "code",
      "execution_count": 16,
      "metadata": {
        "colab": {
          "base_uri": "https://localhost:8080/"
        },
        "id": "7m9ENdZp1Ffg",
        "outputId": "ed72c4e8-1187-4701-f44a-111f46ab5ebe"
      },
      "outputs": [
        {
          "output_type": "stream",
          "name": "stdout",
          "text": [
            "Player 1: O\n",
            "Player 2: X \n",
            "\n",
            "1\t2\t3\t\n",
            "\n",
            "4\t5\t6\t\n",
            "\n",
            "7\t8\t9\t\n",
            "\n",
            "O's turn\n",
            "Please Enter a number between 1,9, and make sure it is empty 1\n",
            "O\t2\t3\t\n",
            "\n",
            "4\t5\t6\t\n",
            "\n",
            "7\t8\t9\t\n",
            "\n",
            "X's turn\n",
            "Please Enter a number between 1,9, and make sure it is empty 2\n",
            "O\tX\t3\t\n",
            "\n",
            "4\t5\t6\t\n",
            "\n",
            "7\t8\t9\t\n",
            "\n",
            "O's turn\n",
            "Please Enter a number between 1,9, and make sure it is empty 3\n",
            "O\tX\tO\t\n",
            "\n",
            "4\t5\t6\t\n",
            "\n",
            "7\t8\t9\t\n",
            "\n",
            "X's turn\n",
            "Please Enter a number between 1,9, and make sure it is empty 5\n",
            "O\tX\tO\t\n",
            "\n",
            "4\tX\t6\t\n",
            "\n",
            "7\t8\t9\t\n",
            "\n",
            "O's turn\n",
            "Please Enter a number between 1,9, and make sure it is empty 4\n",
            "O\tX\tO\t\n",
            "\n",
            "O\tX\t6\t\n",
            "\n",
            "7\t8\t9\t\n",
            "\n",
            "X's turn\n",
            "Please Enter a number between 1,9, and make sure it is empty 8\n",
            "O\tX\tO\t\n",
            "\n",
            "O\tX\t6\t\n",
            "\n",
            "7\tX\t9\t\n",
            "\n",
            "X wins!\n"
          ]
        }
      ],
      "source": [
        "play()"
      ]
    },
    {
      "cell_type": "code",
      "execution_count": 16,
      "metadata": {
        "id": "O911u9mL3Akr"
      },
      "outputs": [],
      "source": []
    }
  ],
  "metadata": {
    "colab": {
      "provenance": []
    },
    "kernelspec": {
      "display_name": "Python 3",
      "name": "python3"
    },
    "language_info": {
      "name": "python"
    }
  },
  "nbformat": 4,
  "nbformat_minor": 0
}