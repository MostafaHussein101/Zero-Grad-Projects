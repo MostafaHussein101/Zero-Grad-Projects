{
  "cells": [
    {
      "cell_type": "markdown",
      "metadata": {
        "id": "hMV-7TpxbEDG"
      },
      "source": [
        "\n",
        "<a href=\"https://www.zero-grad.com/\">\n",
        "         <img alt=\"Zero Grad\" src=\"https://lh3.googleusercontent.com/oEMY-qk_B2HW_Fponz1a3u1fLfo3NpO0VFjQKnVW8fH0v93NAWala5Kgp0nN2ubiyZdEMpwhv3Ynv7bXsB0RZ28YfEd_ZlRum75OHEu0-z7XwHfcD3sin7_SORLzg1gz52MsxD3b1WbxQWX1RdR4HP3jpbJTOuCiddl92UBcQH_x-Llx7_XuZuwb9ekN9vYnKsw6U1yL2df4IVrJEDySttzab9qlHvMO7sSekgS64jPVAmATjqXqlvrwM026dhrad-7nX-hfr2uKlUGPuo9xKzVo4EhbUP1-pKBQNPNHO6P0KcReg3NxbtKmWXRyg9LPX0xO-wwXWt9GhCcPXFV_BoY5eQXabCjR3mlr9SO01VgWplas-XF4337_JOm-bVkiaQjQca_N4Gg0hy26TvIGRnHEMIPSgudYPqhMnatoN4xAC715rP82r1svC0_qadXMZHu6D40YqWnY9ZE-iujr2p1_CetxmG-uY94UATy7o-SnxuPchG4QfZkiUgRMr8xNg86bQMuBxbCS_lOyVMwfqwbt2IunlDcZ8yyN_3SJFzFHuFOOjQolgGQrytI0mP1oTwba7je0RtBtCuTck1UCMMsZvMnJhCtWgMmuLoYTkSCzxMXbz0T3L2AClDouA_3dwM7z1gdm8Gq4v06T1KWFUs1adGNH5fuj-pUHEfW4drzzXgolPH5SehqhaNsqdMttCPUzNPIIEjwfULyQi7nlP-w-qydK82mdhdmjQhrprfoGtsPckJkI1Tur60uZI7nLkES5cE3tQrGualSNArRkkU8KN4tStZ0CkmqZNkAlMbfAJSYBD7tDxhGSg922AdLevSLJMTUyg6KuHoY30r7zH1Z8fE0R8aFZL2LJl54OU_tkXEdlFlSnZTOdB-PVTj-yagpt99SetLnQIX5SS_Vxc0BNPKjUZG0oEHYbIxkbZN1O7Rg78xe-thytngS0byfuaeP2X4NYjg29FIffnn72bAUs9Ii0N2mOpABLg1uQMN4MyAa1Mbd_=w1300-h200-no?authuser=1\" >\n",
        "      </a>"
      ]
    },
    {
      "cell_type": "markdown",
      "metadata": {
        "id": "PhpgbWHJhJOW"
      },
      "source": [
        "# Guessing Game Project Description"
      ]
    },
    {
      "cell_type": "markdown",
      "metadata": {
        "id": "9XJyp9xehPBl"
      },
      "source": [
        "* **`First: You ask the user to set the game level:`**\n",
        "  * *(1) Easy*:\n",
        "    * Limits : [1 - 10]  \n",
        "    * No. of trials : 3\n",
        "  * *(2) Intermediate*:\n",
        "    * Limits : [1 - 100]\n",
        "    * No. of trials : 7\n",
        "  * *(3) Hard* :  \n",
        "    * Limits : [1 - 1000]\n",
        "    * No. of trials : 15\n",
        "\n",
        "* **`Second: set the game settings according to the game level:`**\n",
        "  * set the `guess` to a number within the limits using `random` module\n",
        "  * set the number of trials: `n_trials`\n",
        "\n",
        "* **`Finally: Play the game:`**\n",
        "  * Ask the user to guess the number:\n",
        "    * If he guessed it successfully : `print('Congratulations, you achieved it in {user_trials} trial') `\n",
        "    * if he failed:\n",
        "      * user_trials < n_trials: till him (Increase) or (Decrease)\n",
        "      * user_trials = n_trials: `print('You Lose!')`"
      ]
    },
    {
      "cell_type": "markdown",
      "metadata": {
        "id": "m2nflmTioFy_"
      },
      "source": [
        "# Solution"
      ]
    },
    {
      "cell_type": "markdown",
      "metadata": {
        "id": "GsE-z7Son-xm"
      },
      "source": [
        "## Show the game levels"
      ]
    },
    {
      "cell_type": "code",
      "execution_count": 1,
      "metadata": {
        "id": "YueCJNtPnndY"
      },
      "outputs": [],
      "source": [
        "def show_levels():\n",
        "  print(''' Game Levels :\n",
        "  (1) Easy:\n",
        "      * Limits : [1 - 10]\n",
        "      * No. of trials : 3\n",
        "  (2) Intermediate*:\n",
        "      * Limits : [1 - 100]\n",
        "      * No. of trials : 7\n",
        "  (3) Hard :\n",
        "      * Limits : [1 - 1000]\n",
        "      * No. of trials : 15 ''')"
      ]
    },
    {
      "cell_type": "code",
      "execution_count": 2,
      "metadata": {
        "id": "I87ODM9LaFir",
        "outputId": "2691c187-3a79-45b5-be3e-352d74992409",
        "colab": {
          "base_uri": "https://localhost:8080/"
        }
      },
      "outputs": [
        {
          "output_type": "stream",
          "name": "stdout",
          "text": [
            " Game Levels :\n",
            "  (1) Easy:\n",
            "      * Limits : [1 - 10]\n",
            "      * No. of trials : 3\n",
            "  (2) Intermediate*:\n",
            "      * Limits : [1 - 100]\n",
            "      * No. of trials : 7\n",
            "  (3) Hard :\n",
            "      * Limits : [1 - 1000]\n",
            "      * No. of trials : 15 \n"
          ]
        }
      ],
      "source": [
        "show_levels()"
      ]
    },
    {
      "cell_type": "markdown",
      "metadata": {
        "id": "ZaIwkooboJ5p"
      },
      "source": [
        "## Ask the user for the game level"
      ]
    },
    {
      "cell_type": "code",
      "execution_count": 3,
      "metadata": {
        "id": "we7UkC6AhFwy"
      },
      "outputs": [],
      "source": [
        "def game_level_choice():\n",
        "  while True:\n",
        "      game_level = input('Enter the game level :\\n (1) Easy \\t (2) Intermediate \\t (3) Hard \\t')\n",
        "      if game_level in ['1','2','3']:\n",
        "          game_level = int(game_level)\n",
        "          break\n",
        "      else:\n",
        "          print('Invalid Choice! Please choose 1, 2, or 3')\n",
        "          continue\n",
        "  return game_level"
      ]
    },
    {
      "cell_type": "markdown",
      "metadata": {
        "id": "OjfyXPCeoQM4"
      },
      "source": [
        "## Set the game settings according to the game level:\n"
      ]
    },
    {
      "cell_type": "code",
      "execution_count": 5,
      "metadata": {
        "id": "NTxJ1qsJmhoG"
      },
      "outputs": [],
      "source": [
        "def set_game_settings(game_level):\n",
        "  if game_level == 1:\n",
        "    limits = range(1,11)\n",
        "    n_trials = 3\n",
        "  elif game_level == 2:\n",
        "    limits = range(1,101)\n",
        "    n_trials = 7\n",
        "  else:\n",
        "    limits = range(1,1001)\n",
        "    n_trials = 15\n",
        "  return limits, n_trials"
      ]
    },
    {
      "cell_type": "code",
      "execution_count": 6,
      "metadata": {
        "id": "QJBl3y3eaFiu",
        "outputId": "337d56f1-074e-45f8-d200-5932369fe393",
        "colab": {
          "base_uri": "https://localhost:8080/"
        }
      },
      "outputs": [
        {
          "output_type": "execute_result",
          "data": {
            "text/plain": [
              "(range(1, 101), 7)"
            ]
          },
          "metadata": {},
          "execution_count": 6
        }
      ],
      "source": [
        "set_game_settings(2)"
      ]
    },
    {
      "cell_type": "markdown",
      "metadata": {
        "id": "97c-Ofv1o522"
      },
      "source": [
        "## Start Playing"
      ]
    },
    {
      "cell_type": "code",
      "execution_count": 7,
      "metadata": {
        "id": "wz6TkIcTo1Jl"
      },
      "outputs": [],
      "source": [
        "import random\n",
        "\n",
        "def start_play(limits, n_trials):\n",
        "  hidden = random.choice(limits)\n",
        "  user_trials = 0\n",
        "\n",
        "  while user_trials < n_trials:\n",
        "    guess = int(input('Guess the number :   '))\n",
        "    user_trials +=1\n",
        "\n",
        "    if guess == hidden:\n",
        "      print(f'You got it successfully in {user_trials} trials')\n",
        "      break\n",
        "    else:\n",
        "      if user_trials == n_trials:\n",
        "        print(f\"Unfortunately, You tried {user_trials} trials. No more Trials!\")\n",
        "        print(f'The hidden number is  {hidden}')\n",
        "      elif guess < hidden:\n",
        "        print('No, Increase!')\n",
        "      else:\n",
        "        print('No, Decrease!')\n",
        "    continue\n"
      ]
    },
    {
      "cell_type": "code",
      "execution_count": 8,
      "metadata": {
        "id": "3v-EujtWaFiv",
        "outputId": "b667a9cd-917b-4e03-ed5e-2d02884fa484",
        "colab": {
          "base_uri": "https://localhost:8080/"
        }
      },
      "outputs": [
        {
          "output_type": "stream",
          "name": "stdout",
          "text": [
            "Guess the number :   2\n",
            "No, Increase!\n",
            "Guess the number :   5\n",
            "No, Decrease!\n",
            "Guess the number :   4\n",
            "Unfortunately, You tried 3 trials. No more Trials!\n",
            "The hidden number is  3\n"
          ]
        }
      ],
      "source": [
        "start_play(range(1, 11), 3)"
      ]
    },
    {
      "cell_type": "markdown",
      "metadata": {
        "id": "sMjtRIQaqWvr"
      },
      "source": [
        "# Play Again ?"
      ]
    },
    {
      "cell_type": "code",
      "execution_count": 9,
      "metadata": {
        "id": "CytyxDOeqaBe"
      },
      "outputs": [],
      "source": [
        "def play_again():\n",
        "    while True:\n",
        "      play_again = input(\"Play again ? [0] No, [1] Yes:   \")\n",
        "      if play_again in ['1','0']:\n",
        "          break\n",
        "      else:\n",
        "          print('Invalid Choice! Please choose 0 or 1   ')\n",
        "    return int(play_again)"
      ]
    },
    {
      "cell_type": "code",
      "execution_count": null,
      "metadata": {
        "id": "qEzItQsHmFz5"
      },
      "outputs": [],
      "source": [
        "play_again()"
      ]
    },
    {
      "cell_type": "markdown",
      "metadata": {
        "id": "uI9u-XGV2S7P"
      },
      "source": [
        "## Let's Play"
      ]
    },
    {
      "cell_type": "code",
      "execution_count": 10,
      "metadata": {
        "id": "4nIAPOhSpksM"
      },
      "outputs": [],
      "source": [
        "def play():\n",
        "  show_levels()\n",
        "  while True:\n",
        "    game_level = game_level_choice()\n",
        "    limits, n_trials = set_game_settings(game_level)\n",
        "    start_play(limits, n_trials)\n",
        "    if not play_again():\n",
        "        break\n"
      ]
    },
    {
      "cell_type": "code",
      "execution_count": null,
      "metadata": {
        "colab": {
          "base_uri": "https://localhost:8080/"
        },
        "id": "7m9ENdZp1Ffg",
        "outputId": "65545200-5471-4aff-fca6-79d9305c474a"
      },
      "outputs": [
        {
          "output_type": "stream",
          "name": "stdout",
          "text": [
            " Game Levels :\n",
            "  (1) Easy:\n",
            "      * Limits : [1 - 10]\n",
            "      * No. of trials : 3\n",
            "  (2) Intermediate*:\n",
            "      * Limits : [1 - 100]\n",
            "      * No. of trials : 7\n",
            "  (3) Hard :\n",
            "      * Limits : [1 - 1000]\n",
            "      * No. of trials : 15 \n",
            "Enter the game level :\n",
            " (1) Easy \t (2) Intermediate \t (3) Hard \t1\n",
            "Guess the number :   3\n",
            "No, Increase!\n",
            "Guess the number :   5\n",
            "No, Decrease!\n",
            "Guess the number :   4\n",
            "You got it successfully in 3 trials\n"
          ]
        }
      ],
      "source": [
        "play()"
      ]
    }
  ],
  "metadata": {
    "colab": {
      "provenance": []
    },
    "kernelspec": {
      "display_name": "base",
      "language": "python",
      "name": "python3"
    },
    "language_info": {
      "codemirror_mode": {
        "name": "ipython",
        "version": 3
      },
      "file_extension": ".py",
      "mimetype": "text/x-python",
      "name": "python",
      "nbconvert_exporter": "python",
      "pygments_lexer": "ipython3",
      "version": "3.12.4"
    }
  },
  "nbformat": 4,
  "nbformat_minor": 0
}