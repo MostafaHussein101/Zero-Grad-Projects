{
  "cells": [
    {
      "cell_type": "markdown",
      "id": "7721118c",
      "metadata": {
        "id": "7721118c"
      },
      "source": [
        "# ATM Project (Python, No OOP)\n"
      ]
    },
    {
      "cell_type": "markdown",
      "id": "406b5e63",
      "metadata": {
        "id": "406b5e63"
      },
      "source": [
        "\n",
        "A simple ATM simulation project written in Python, using only **functions and global variables** (no Object-Oriented Programming).\n",
        "\n",
        "## Features\n",
        "\n",
        "- **User Authentication:**  \n",
        "  User enters a PIN (default: `1234`). Up to 3 attempts are allowed.\n",
        "\n",
        "- **Balance Inquiry:**  \n",
        "  Displays the current account balance.\n",
        "\n",
        "- **Deposit:**  \n",
        "  User can deposit money. Validates positive amounts and updates balance.\n",
        "\n",
        "- **Withdraw:**  \n",
        "  User can withdraw money if sufficient funds are available.\n",
        "\n",
        "- **Mini Statement:**  \n",
        "  Shows the last 5 transactions (deposits/withdrawals).\n",
        "\n",
        "- **Exit:**  \n",
        "  Ends the ATM session safely.\n",
        "\n",
        "## How It Works\n",
        "\n",
        "- When you run the notebook, it will prompt you for your PIN.\n",
        "- After successful authentication, you’ll see a menu of actions.\n",
        "- The account starts with a balance of `$1000`.\n",
        "- Each deposit or withdrawal is logged in a transaction list.\n",
        "- The program uses simple `input()`/`print()` statements for interaction.\n",
        "\n",
        "\n",
        "## Notes\n",
        "\n",
        "- This project does not use OOP or persistent storage (all data resets when restarted).\n",
        "- Designed for educational purposes and as a beginner Python project template.\n",
        "\n",
        "\n"
      ]
    },
    {
      "cell_type": "markdown",
      "id": "6890129b",
      "metadata": {
        "id": "6890129b"
      },
      "source": [
        "# 1. Defaults"
      ]
    },
    {
      "cell_type": "code",
      "execution_count": null,
      "id": "8134f4c0",
      "metadata": {
        "id": "8134f4c0"
      },
      "outputs": [],
      "source": [
        "\n",
        "PIN = \"1234\"                # Default user PIN\n",
        "balance = 1000.0            # Default account balance (USD)\n",
        "transactions = []           # List to store last transactions\n"
      ]
    },
    {
      "cell_type": "markdown",
      "id": "f09ee2ce",
      "metadata": {
        "id": "f09ee2ce"
      },
      "source": [
        "\n",
        "## 2. Authentication Function\n",
        "\n",
        "This function asks the user to input the PIN.  \n",
        "- The user gets 3 tries.\n",
        "- On correct PIN, the user is authenticated.\n",
        "- On 3 wrong tries, the program exits.\n"
      ]
    },
    {
      "cell_type": "code",
      "execution_count": null,
      "id": "cad51252",
      "metadata": {
        "id": "cad51252"
      },
      "outputs": [],
      "source": [
        "def authenticate():\n",
        "    attempts = 0\n",
        "    while attempts < 3:\n",
        "      UIN=input(\"Please enter the 4 digits PIN code \\n\")\n",
        "      if len(UIN)!=len(PIN):\n",
        "        print(\"Invalid PIN \")\n",
        "        attempts +=1\n",
        "      else:\n",
        "        if UIN == PIN:\n",
        "          return True\n",
        "        else:\n",
        "          attempts +=1\n",
        "    return False\n"
      ]
    },
    {
      "cell_type": "markdown",
      "id": "c931d921",
      "metadata": {
        "id": "c931d921"
      },
      "source": [
        "\n",
        "## 3. Show ATM Menu\n",
        "\n",
        "Prints the available options for the user.\n"
      ]
    },
    {
      "cell_type": "code",
      "execution_count": null,
      "id": "b08c13db",
      "metadata": {
        "id": "b08c13db"
      },
      "outputs": [],
      "source": [
        "def show_menu():\n",
        "    return input(\"Welcome to ATM. Please choose one of the following options: \\n 1. Balance Inquiry \\n 2. Deposit \\n 3. Withdraw \\n 4. Mini Statement \\n 5. Exit \\n\")"
      ]
    },
    {
      "cell_type": "markdown",
      "id": "118c9e78",
      "metadata": {
        "id": "118c9e78"
      },
      "source": [
        "\n",
        "## 4. Balance Inquiry\n",
        "\n",
        "Displays the user's current balance.\n"
      ]
    },
    {
      "cell_type": "code",
      "execution_count": null,
      "id": "f2bd049e",
      "metadata": {
        "id": "f2bd049e"
      },
      "outputs": [],
      "source": [
        "\n",
        "def balance_inquiry():\n",
        "    print(f\"Your current balanse is {balance:.2f}$ \\n\")\n",
        "    reutrn()\n"
      ]
    },
    {
      "cell_type": "markdown",
      "id": "fd8d11fb",
      "metadata": {
        "id": "fd8d11fb"
      },
      "source": [
        "\n",
        "## 5. Deposit Money\n",
        "\n",
        "Lets the user add money to their balance.  \n",
        "- The amount is validated.\n",
        "- The transaction is recorded.\n"
      ]
    },
    {
      "cell_type": "code",
      "execution_count": null,
      "id": "ff2b32cd",
      "metadata": {
        "id": "ff2b32cd"
      },
      "outputs": [],
      "source": [
        "\n",
        "def deposit():\n",
        "    global balance\n",
        "    try:\n",
        "      deposit = float(input(\"Please enter the amount you want to deposit \\n\"))\n",
        "      if deposit<=0:\n",
        "        print(\"Invalid amount\")\n",
        "        show_menu()\n",
        "      else:\n",
        "        balance += deposit\n",
        "        print(f\"you successfully deposited {deposit:.2f}$ from your account \\n your total balance is {balance:.2f}$\")\n",
        "        transactions.append(f\"Deposit: {deposit:.2f}$\")\n",
        "        reutrn()\n",
        "    except:\n",
        "      print(\"Invalid Input. Please try again\")\n",
        "      show_menu()"
      ]
    },
    {
      "cell_type": "markdown",
      "id": "6eec407c",
      "metadata": {
        "id": "6eec407c"
      },
      "source": [
        "\n",
        "## 6. Withdraw Money\n",
        "\n",
        "Lets the user withdraw money if the balance is sufficient.  \n",
        "- The withdrawal is validated.\n",
        "- The transaction is recorded.\n"
      ]
    },
    {
      "cell_type": "code",
      "execution_count": null,
      "id": "a3bfcfcc",
      "metadata": {
        "id": "a3bfcfcc"
      },
      "outputs": [],
      "source": [
        "\n",
        "def withdraw():\n",
        "    global balance\n",
        "    try:\n",
        "      withdraw = float(input(\"Please enter the amount you want to withdraw \\n\"))\n",
        "      if balance!= 0 or withdraw<=balance:\n",
        "        balance -= withdraw\n",
        "        print(f\"you successfully withdrew {withdraw:.2f}$ from your account  \\n your total balance is {balance:.2f}$\")\n",
        "        transactions.append(f\"Withdraw: {withdraw:.2f}$\")\n",
        "        reutrn()\n",
        "      else:\n",
        "        print(\"Insufficient amount\")\n",
        "        show_menu()\n",
        "    except:\n",
        "      print(\"Invalid Input. Please try again\")\n",
        "      show_menu()"
      ]
    },
    {
      "cell_type": "markdown",
      "id": "caa8928e",
      "metadata": {
        "id": "caa8928e"
      },
      "source": [
        "\n",
        "## 7. Mini Statement\n",
        "\n",
        "Displays the last 5 transactions.\n"
      ]
    },
    {
      "cell_type": "code",
      "execution_count": null,
      "id": "e41cb337",
      "metadata": {
        "id": "e41cb337"
      },
      "outputs": [],
      "source": [
        "\n",
        "def mini_statement():\n",
        "    print(\"Your last 5 transactions:\")\n",
        "    if transactions:\n",
        "      for _ in transactions[:5]:\n",
        "        print(_)\n",
        "        reutrn()\n",
        "    else:\n",
        "      print(\"No transactions found\")\n",
        "      reutrn()"
      ]
    },
    {
      "cell_type": "markdown",
      "source": [
        "## 8. Reutrn/Exit Option\n",
        "Gives the user the ability to either return to main menu or exit the program"
      ],
      "metadata": {
        "id": "35TiKFA86OdM"
      },
      "id": "35TiKFA86OdM"
    },
    {
      "cell_type": "code",
      "source": [
        "def reutrn():\n",
        "  try:\n",
        "    match int(input(\"\\n Please Choose \\n 1.Return to Main Menu \\n 2.Exit \\n\")):\n",
        "      case 1:\n",
        "        return operation()\n",
        "      case 2:\n",
        "        print(\"Thank you for chooseing ATM. GoodBye\")\n",
        "      case _:\n",
        "        print(\"invalid option\")\n",
        "        reutrn()\n",
        "  except:\n",
        "    print(\"Invalid Input. Please try again\")"
      ],
      "metadata": {
        "id": "nGJ8J4SA6Nxo"
      },
      "id": "nGJ8J4SA6Nxo",
      "execution_count": null,
      "outputs": []
    },
    {
      "cell_type": "markdown",
      "source": [],
      "metadata": {
        "id": "Y0-UWUZ46NoB"
      },
      "id": "Y0-UWUZ46NoB"
    },
    {
      "cell_type": "markdown",
      "id": "39b605d6",
      "metadata": {
        "id": "39b605d6"
      },
      "source": [
        "\n",
        "## 9. Main Program Loop\n",
        "\n",
        "Handles the full ATM workflow:  \n",
        "- Authenticates the user  \n",
        "- Shows the menu in a loop  \n",
        "- Calls the correct function for each option  \n",
        "- Exits on user request\n"
      ]
    },
    {
      "cell_type": "code",
      "source": [
        "def operation():\n",
        "  operation=show_menu()\n",
        "  match operation:\n",
        "    case \"1\":\n",
        "      balance_inquiry()\n",
        "    case \"2\":\n",
        "      deposit()\n",
        "    case \"3\":\n",
        "      withdraw()\n",
        "    case \"4\":\n",
        "      mini_statement()\n",
        "    case \"5\":\n",
        "      print(\"Thank you for chooseing ATM. GoodBye\")\n",
        "    case _:\n",
        "      print(\"invalid option\")\n",
        "      show_menu()"
      ],
      "metadata": {
        "id": "PohVBTp_9IR2"
      },
      "id": "PohVBTp_9IR2",
      "execution_count": null,
      "outputs": []
    },
    {
      "cell_type": "code",
      "execution_count": null,
      "id": "b9ed2598",
      "metadata": {
        "id": "b9ed2598"
      },
      "outputs": [],
      "source": [
        "def main():\n",
        "  if authenticate():\n",
        "    operation()\n",
        "  else: print(\"Authentication failed. Exiting.\")"
      ]
    },
    {
      "cell_type": "markdown",
      "id": "0647e6bf",
      "metadata": {
        "id": "0647e6bf"
      },
      "source": [
        "\n",
        "## 10. Run the ATM Program\n",
        "\n",
        "Execute this cell to start the ATM session.\n"
      ]
    },
    {
      "cell_type": "code",
      "execution_count": null,
      "id": "aa3f6a30",
      "metadata": {
        "id": "aa3f6a30",
        "colab": {
          "base_uri": "https://localhost:8080/"
        },
        "outputId": "cf05c881-11cc-410f-aa8b-247615bcab03"
      },
      "outputs": [
        {
          "output_type": "stream",
          "name": "stdout",
          "text": [
            "Please enter the 4 digits PIN code \n",
            "1234\n",
            "Welcome to ATM. Please choose one of the following options: \n",
            " 1. Balance Inquiry \n",
            " 2. Deposit \n",
            " 3. Withdraw \n",
            " 4. Mini Statement \n",
            " 5. Exit \n",
            "1\n",
            "Your current balanse is 2250.00$ \n",
            "\n",
            "\n",
            " Please Choose \n",
            " 1.Return to Main Menu \n",
            " 2.Exit \n",
            "1\n",
            "Welcome to ATM. Please choose one of the following options: \n",
            " 1. Balance Inquiry \n",
            " 2. Deposit \n",
            " 3. Withdraw \n",
            " 4. Mini Statement \n",
            " 5. Exit \n",
            "3\n",
            "Please enter the amount you want to withdraw \n",
            "51\n",
            "you successfully withdrew 51.00$ from your account  \n",
            " your total balance is 2199.00$\n",
            "\n",
            " Please Choose \n",
            " 1.Return to Main Menu \n",
            " 2.Exit \n",
            "3\n",
            "invalid option\n",
            "\n",
            " Please Choose \n",
            " 1.Return to Main Menu \n",
            " 2.Exit \n",
            "2\n",
            "Thank you for chooseing ATM. GoodBye\n"
          ]
        }
      ],
      "source": [
        "main()"
      ]
    }
  ],
  "metadata": {
    "kernelspec": {
      "display_name": "base",
      "language": "python",
      "name": "python3"
    },
    "language_info": {
      "codemirror_mode": {
        "name": "ipython",
        "version": 3
      },
      "file_extension": ".py",
      "mimetype": "text/x-python",
      "name": "python",
      "nbconvert_exporter": "python",
      "pygments_lexer": "ipython3",
      "version": "3.12.7"
    },
    "colab": {
      "provenance": []
    }
  },
  "nbformat": 4,
  "nbformat_minor": 5
}