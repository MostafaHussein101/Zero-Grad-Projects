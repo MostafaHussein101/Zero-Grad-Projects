{
  "cells": [
    {
      "cell_type": "markdown",
      "metadata": {
        "id": "Ie7lnVo77Twa"
      },
      "source": [
        "\n",
        "<a href=\"https://www.zero-grad.com/\">\n",
        "         <img alt=\"Zero Grad\" src=\"https://i.postimg.cc/y8LZ0CM6/linear-Algebra.png\" >\n",
        "      </a>"
      ]
    },
    {
      "cell_type": "markdown",
      "metadata": {
        "id": "55Sn-ffaebyp"
      },
      "source": [
        "# 🧪 Assignment 1: Build Your Own `train_test_split_np()` Using NumPy\n"
      ]
    },
    {
      "cell_type": "markdown",
      "metadata": {
        "id": "IlbsTQq5ebyq"
      },
      "source": [
        "##  Introduction:\n"
      ]
    },
    {
      "cell_type": "markdown",
      "metadata": {
        "id": "Uwkmxxb6ebyq"
      },
      "source": [
        "\n",
        "\n",
        "In Machine Learning, we build models that **learn from data** and then **make predictions** on new, unseen data.\n",
        "\n",
        "But if we train and test our model on the same data, we won't know if it's actually good — it might just be memorizing the data (overfitting). To avoid this, we **split the dataset** into two parts:\n",
        "\n",
        "- **Training Set** 🧠  \n",
        "  Used by the model to learn patterns from data.\n",
        "\n",
        "- **Testing Set** 🧪  \n",
        "  Used to evaluate how well the model performs on new, unseen data.\n",
        "\n",
        "This approach helps us **estimate how the model will perform in the real world**.\n",
        "\n",
        "---\n",
        "\n",
        "### ⚖️ Common Split Ratios\n",
        "\n",
        "- **80% Train / 20% Test** – most common for general tasks.\n",
        "- **70% Train / 30% Test** – when you want more test data.\n",
        "- **90% Train / 10% Test** – if your dataset is large.\n",
        "\n",
        "There's no one \"right\" ratio — it depends on your dataset size and use case.\n",
        "\n",
        "---\n",
        "\n",
        "### 🔀 Should We Shuffle the Data?\n",
        "\n",
        "Yes!  \n",
        "If your data is ordered (e.g. time-based), you should **shuffle** it before splitting to avoid bias.\n",
        "\n",
        "Shuffling ensures that both the training and test sets represent the overall data distribution fairly.\n",
        "\n",
        "---\n",
        "\n",
        "### 🧠 Real-Life Analogy\n",
        "\n",
        "Imagine you're studying for an exam.\n",
        "\n",
        "- You **practice with sample questions** (training set).\n",
        "- Then you **test yourself with new questions** you've never seen (test set).\n",
        "\n",
        "If you only \"test\" yourself using the same practice questions, you're not really testing your understanding — you're just repeating.\n",
        "\n",
        "---\n",
        "\n",
        "### 🧪 Summary\n",
        "\n",
        "| Term           | Purpose                          |\n",
        "|----------------|----------------------------------|\n",
        "| Training Set   | Learn from it                    |\n",
        "| Testing Set    | Evaluate model on unseen data    |\n",
        "| Shuffle        | Avoid bias from data order       |\n",
        "| Test Ratio     | Controls how much data is held out for testing |\n",
        "\n",
        "Understanding this concept is the first step toward building reliable, real-world ML models.\n"
      ]
    },
    {
      "cell_type": "markdown",
      "metadata": {
        "id": "lo4zaJdyebyr"
      },
      "source": [
        "## Implementation\n"
      ]
    },
    {
      "cell_type": "markdown",
      "metadata": {
        "id": "mJXmsE8xebyr"
      },
      "source": [
        "\n",
        "\n",
        "Create a custom `train_test_split_np()` function using **NumPy only**, similar to scikit-learn's `train_test_split`, with full control over:\n",
        "\n",
        "- Test ratio (e.g., 20% test)\n",
        "- Shuffle behavior\n",
        "- Random seed for reproducibility"
      ]
    },
    {
      "cell_type": "code",
      "execution_count": 22,
      "metadata": {
        "id": "upZzBASAebys"
      },
      "outputs": [],
      "source": [
        "import numpy as np\n",
        "class TrainTestSplit:\n",
        "  def __init__(self,x,y=None,train_size=0.8,seed=None,shuffle=False):\n",
        "    self.x = x\n",
        "    self.y = y\n",
        "    self.train_size = train_size\n",
        "    self.seed = seed\n",
        "    self.shuffle = shuffle\n",
        "\n",
        "  def split(self):\n",
        "    if not self.shuffle:\n",
        "        if self.y is None:\n",
        "            return self.x[:int(self.train_size * len(self.x))], self.x[int(self.train_size * len(self.x)):]\n",
        "        else:\n",
        "            return (\n",
        "                self.x[:int(self.train_size * len(self.x))],\n",
        "                self.x[int(self.train_size * len(self.x)):],\n",
        "                self.y[:int(self.train_size * len(self.y))],\n",
        "                self.y[int(self.train_size * len(self.y)):]\n",
        "            )\n",
        "    else:\n",
        "        if self.seed is not None:\n",
        "            np.random.seed(self.seed)\n",
        "\n",
        "        indices = np.arange(len(self.x))\n",
        "        np.random.shuffle(indices)\n",
        "\n",
        "        x_shuffled = self.x[indices]\n",
        "        if self.y is None:\n",
        "            return (\n",
        "                x_shuffled[:int(self.train_size * len(self.x))],\n",
        "                x_shuffled[int(self.train_size * len(self.x)):]\n",
        "            )\n",
        "        else:\n",
        "            y_shuffled = self.y[indices]\n",
        "            return (\n",
        "                x_shuffled[:int(self.train_size * len(self.x))],\n",
        "                x_shuffled[int(self.train_size * len(self.x)):],\n",
        "                y_shuffled[:int(self.train_size * len(self.y))],\n",
        "                y_shuffled[int(self.train_size * len(self.y)):]\n",
        "            )"
      ]
    },
    {
      "cell_type": "markdown",
      "metadata": {
        "id": "-rzvy7SRebyt"
      },
      "source": [
        "# 📈 Assignment 2: Build Linear Regression from Scratch (Using Your Train-Test Split)\n"
      ]
    },
    {
      "cell_type": "markdown",
      "metadata": {
        "id": "KnEeHk3jebyt"
      },
      "source": [
        "## 🧠 What You'll Learn\n"
      ]
    },
    {
      "cell_type": "markdown",
      "metadata": {
        "id": "W9t-laKPebyu"
      },
      "source": [
        "\n",
        "In this assignment, you’ll build a **Linear Regression model** step-by-step using only **NumPy** — and apply it to the training and test sets you created in **Assignment 1**.\n",
        "\n",
        "You will:\n",
        "\n",
        "- Use your own `train_test_split_np()` function  \n",
        "- Fit a line to training data using the **Normal Equation**  \n",
        "- Make predictions on test data\n",
        "\n",
        "\n",
        "\n",
        " 🧪 **The Idea**\n",
        "\n",
        "Linear Regression tries to find the best-fitting line:\n",
        "\n",
        "```\n",
        "y = θ₀ + θ₁x\n",
        "```\n",
        "\n",
        "We use a mathematical formula (Normal Equation) to find the best values for `θ₀` and `θ₁`:\n",
        "\n",
        "```\n",
        "θ = (XᵀX)⁻¹ Xᵀy\n",
        "```\n",
        "\n",
        "Then we use this line to make predictions for new data.\n"
      ]
    },
    {
      "cell_type": "markdown",
      "metadata": {
        "id": "6412wQ2lebyu"
      },
      "source": [
        "## 📝 Tasks"
      ]
    },
    {
      "cell_type": "markdown",
      "metadata": {
        "id": "0Z2Ri8mNebyu"
      },
      "source": [
        "### ✅ Step 1: Generate the Dataset\n"
      ]
    },
    {
      "cell_type": "code",
      "execution_count": 23,
      "metadata": {
        "colab": {
          "base_uri": "https://localhost:8080/"
        },
        "id": "VlmQ4Nx_ebyu",
        "outputId": "3975bf6c-f332-4f52-abf7-a41208cf3eab"
      },
      "outputs": [
        {
          "output_type": "stream",
          "name": "stdout",
          "text": [
            "X shape: (100, 1)\n",
            "y shape: (100, 1)\n"
          ]
        }
      ],
      "source": [
        "import numpy as np\n",
        "\n",
        "np.random.seed(42)\n",
        "X = 2 * np.random.rand(100, 1)\n",
        "y = 4 + 3 * X + np.random.randn(100, 1)\n",
        "\n",
        "print(\"X shape:\", X.shape)\n",
        "print(\"y shape:\", y.shape)\n"
      ]
    },
    {
      "cell_type": "markdown",
      "metadata": {
        "id": "l3cv6zH0ebyu"
      },
      "source": [
        "### ✅ Step 2: Add Intercept Column (x₀ = 1)\n"
      ]
    },
    {
      "cell_type": "markdown",
      "metadata": {
        "id": "zGSiH0MWebyu"
      },
      "source": [
        "> Example:\n",
        "\n",
        "![Adding 1](https://i.ibb.co/d0zpGpcB/adding-1.png)\n"
      ]
    },
    {
      "cell_type": "code",
      "execution_count": 24,
      "metadata": {
        "id": "3pK7mhMtebyu",
        "colab": {
          "base_uri": "https://localhost:8080/"
        },
        "outputId": "0bd4aabf-6340-4421-dbe1-92bbdd30cf7a"
      },
      "outputs": [
        {
          "output_type": "execute_result",
          "data": {
            "text/plain": [
              "(100, 2)"
            ]
          },
          "metadata": {},
          "execution_count": 24
        }
      ],
      "source": [
        "ones_array= np.ones((X.shape[0], 1))\n",
        "X_b =np.hstack((ones_array,X))\n",
        "np.shape(X_b)"
      ]
    },
    {
      "cell_type": "markdown",
      "metadata": {
        "id": "9f1MGTgdebyu"
      },
      "source": [
        "### ✅ Step 3: Split the Data\n"
      ]
    },
    {
      "cell_type": "markdown",
      "metadata": {
        "id": "U4NCaHqcebyv"
      },
      "source": [
        "Use your function to split `X` and `y`:\n",
        "\n",
        "```python\n",
        "X_train, X_test, y_train, y_test = train_test_split_np(X, y, test_ratio=0.2, seed=42)\n",
        "```"
      ]
    },
    {
      "cell_type": "code",
      "execution_count": 25,
      "metadata": {
        "id": "tNT4QaoSebyv",
        "colab": {
          "base_uri": "https://localhost:8080/"
        },
        "outputId": "4e561920-e8e9-4c5e-d751-c29fa85feefe"
      },
      "outputs": [
        {
          "output_type": "stream",
          "name": "stdout",
          "text": [
            " X_train Shape: (80, 2)\n",
            " X_test Shape: (20, 2)\n",
            " y_train Shape: (80, 1)\n",
            " y_test Shape: (20, 1)\n"
          ]
        }
      ],
      "source": [
        "# X_train, X_test, y_train, y_test = train_test_split_np(X_b, y, test_ratio=0.2, seed=42, shuffle=True)\n",
        "X_train, X_test, y_train, y_test = TrainTestSplit(X_b, y, train_size=0.8, seed=42, shuffle=True).split()\n",
        "\n",
        "print(\" X_train Shape:\", X_train.shape)\n",
        "print(\" X_test Shape:\", X_test.shape)\n",
        "print(\" y_train Shape:\", y_train.shape)\n",
        "print(\" y_test Shape:\", y_test.shape)"
      ]
    },
    {
      "cell_type": "markdown",
      "metadata": {
        "id": "fbzqhX5xebyv"
      },
      "source": [
        "### ✅ Step 4: Compute θ Using the Normal Equation"
      ]
    },
    {
      "cell_type": "markdown",
      "metadata": {
        "id": "pJ-3rBGeebyv"
      },
      "source": [
        "![image.png](https://miro.medium.com/v2/resize:fit:1120/1*7ZiWm6xAF4oWiYfWklUMEw.jpeg)"
      ]
    },
    {
      "cell_type": "code",
      "execution_count": 26,
      "metadata": {
        "id": "1kEsAdaIebyv",
        "colab": {
          "base_uri": "https://localhost:8080/"
        },
        "outputId": "af8d2682-1585-43bb-b451-aedaedbf0d65"
      },
      "outputs": [
        {
          "output_type": "stream",
          "name": "stdout",
          "text": [
            "(2, 1)\n",
            "[[4.27392257]\n",
            " [2.71149531]]\n"
          ]
        }
      ],
      "source": [
        "theta = np.linalg.inv(X_train.T.dot(X_train)).dot(X_train.T).dot(y_train)\n",
        "print(theta.shape)\n",
        "print(theta)"
      ]
    },
    {
      "cell_type": "markdown",
      "metadata": {
        "id": "grmU_MDNebyv"
      },
      "source": [
        "### ✅ Step 5: Predict on the Test Set"
      ]
    },
    {
      "cell_type": "code",
      "execution_count": 27,
      "metadata": {
        "id": "UwEraqI_ebyv",
        "colab": {
          "base_uri": "https://localhost:8080/"
        },
        "outputId": "966087f8-b4a1-4e3b-bc19-e9b24f7bde18"
      },
      "outputs": [
        {
          "output_type": "stream",
          "name": "stdout",
          "text": [
            "(20, 1)\n",
            "[[6.20859251]\n",
            " [5.96037678]\n",
            " [4.80359753]\n",
            " [4.52582272]\n",
            " [9.42963733]\n",
            " [9.36881651]\n",
            " [5.03039647]\n",
            " [8.24351884]\n",
            " [6.26069941]\n",
            " [7.73139075]\n",
            " [8.14184236]\n",
            " [8.10720331]\n",
            " [8.23057003]\n",
            " [6.06837945]\n",
            " [7.59199507]\n",
            " [6.38171586]\n",
            " [5.35155584]\n",
            " [5.25995766]\n",
            " [8.39965275]\n",
            " [8.47746059]]\n"
          ]
        }
      ],
      "source": [
        "y_pred = X_test @ theta\n",
        "print(y_pred.shape)\n",
        "print(y_pred)"
      ]
    },
    {
      "cell_type": "markdown",
      "metadata": {
        "id": "soSoEAzlebyv"
      },
      "source": [
        "### ✅ Step 6: Evaluate the Model"
      ]
    },
    {
      "cell_type": "markdown",
      "metadata": {
        "id": "nSy6U1dPebyv"
      },
      "source": [
        "Use **Mean Squared Error (MSE)** to evaluate your model's performance:\n",
        "\n",
        "<img src=\"https://www.i2tutorials.com/wp-content/media/2019/11/Differences-between-MSE-and-RMSE-1-i2tutorials.jpg\" width=\"400\">\n"
      ]
    },
    {
      "cell_type": "code",
      "execution_count": 28,
      "metadata": {
        "id": "7xemq1v_ebyv",
        "colab": {
          "base_uri": "https://localhost:8080/"
        },
        "outputId": "f7650d5d-5bce-4877-8eb0-ad4593d94b56"
      },
      "outputs": [
        {
          "output_type": "stream",
          "name": "stdout",
          "text": [
            "0.9759000719385933\n"
          ]
        }
      ],
      "source": [
        "MSE = np.mean((y_test - y_pred) ** 2)\n",
        "print(MSE)"
      ]
    }
  ],
  "metadata": {
    "colab": {
      "collapsed_sections": [
        "XYNa1JWM3JYN",
        "anhiG4MjIwTc",
        "XU6Bn5xu4P9O",
        "J36j55q4JDAG",
        "yToXMbvf_HcM",
        "F2C54w29JEzm",
        "rZQBujOJ-HsZ",
        "wbE6VrFHJF8W",
        "0_QN57WJF_HQ",
        "iNC-IUdPGDJe",
        "jqZekQSDJHKm",
        "oYHpwHEPGgvg",
        "b83I19joJIae",
        "Ujmp6XDhH3ik",
        "5O-U1l9aJKcG",
        "I3qOxQIcVP9V",
        "thiMOrniVP9b",
        "AwdmdzPtVP9c",
        "Ksnc87sZV6ML",
        "Sgtti1RdWFi9",
        "iA2puofsWWjP",
        "oW4oTqNwW8Ti",
        "6Zk0zu8HXI0Q",
        "0YZJTgryXYvD",
        "oDx3DRdRXoHb",
        "NWyJ5OZsYhI-",
        "SXRpB3dGYuSA",
        "p1e8gINTY9LH",
        "cRrtUBnAZYm3",
        "zXSXxgVtd1dZ",
        "Z5v6AuJme3Rf",
        "nD2_6W8efcTM"
      ],
      "provenance": []
    },
    "kernelspec": {
      "display_name": "Python 3",
      "language": "python",
      "name": "python3"
    },
    "language_info": {
      "codemirror_mode": {
        "name": "ipython",
        "version": 3
      },
      "file_extension": ".py",
      "mimetype": "text/x-python",
      "name": "python",
      "nbconvert_exporter": "python",
      "pygments_lexer": "ipython3",
      "version": "3.12.7"
    }
  },
  "nbformat": 4,
  "nbformat_minor": 0
}